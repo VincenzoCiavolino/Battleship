{
 "cells": [
  {
   "cell_type": "code",
   "execution_count": 252,
   "metadata": {},
   "outputs": [
    {
     "name": "stdout",
     "output_type": "stream",
     "text": [
      "[0, 0, 0, 0, 0, 0, 0, 0, 0, 0]\n",
      "[0, 0, 0, 0, 0, 0, 0, 0, 0, 0]\n",
      "[0, 0, 1, 1, 1, 1, 0, 0, 0, 0]\n",
      "[0, 0, 0, 0, 0, 0, 0, 0, 0, 0]\n",
      "[0, 0, 0, 0, 0, 0, 0, 0, 0, 0]\n",
      "[0, 0, 0, 0, 0, 0, 0, 0, 1, 0]\n",
      "[0, 0, 0, 0, 0, 0, 0, 0, 1, 0]\n",
      "[0, 0, 0, 0, 0, 0, 0, 0, 0, 0]\n",
      "[0, 0, 0, 0, 0, 0, 0, 0, 0, 0]\n",
      "[0, 0, 0, 0, 0, 0, 0, 0, 0, 0]\n",
      "\n",
      "\n",
      "Attack 1: (8,7)\n",
      "Attack 2: (4,9)\n",
      "Attack 3: (2,7)\n",
      "Attack 4: (3,7)\n",
      "Attack 5: (5,4)\n",
      "Attack 6: (7,9)\n",
      "Attack 7: (5,6)\n",
      "Attack 8: (2,0)\n",
      "Attack 9: (3,7)\n",
      "Attack 10: (0,5)\n",
      "Attack 11: (5,4)\n",
      "Attack 12: (3,6)\n",
      "Attack 13: (6,2)\n",
      "Attack 14: (6,9)\n",
      "Attack 15: (2,1)\n"
     ]
    }
   ],
   "source": [
    "def print_game():\n",
    "    for a in battleground:\n",
    "        print(a)\n",
    "    print('\\n')\n",
    "    \n",
    "def place_ship(x,y):\n",
    "    battleground[x][y]=1\n",
    "\n",
    "def attack(_,x,y):\n",
    "    print('Attack {0}: ({1},{2})'.format(_,x,y))\n",
    "    for i,ship in enumerate(ships):\n",
    "        if (x,y) in ship:\n",
    "            hits[i][0]+=1\n",
    "        if hits[i][0] and hits[i][1]:\n",
    "            print('S.O.S.')\n",
    "            hits[i][1] = 0\n",
    "            return\n",
    "        if hits[i][0]==len(ship):\n",
    "            print('SUNK!')\n",
    "            hits[i][0]=0\n",
    "            return    \n",
    "              \n",
    "battleground = [[0 for x in range(10)] for x in range(10)]\n",
    "ships=[[(5,8),(6,8)],[(2,2),(2,3),(2,4),(2,5)]]\n",
    "hits = [[0,1],[0,1]]\n",
    "\n",
    "for ship in ships:\n",
    "    for arg in ship:\n",
    "        place_ship(*arg)\n",
    "    \n",
    "print_game()\n",
    "\n",
    "positive = set((x,y) for x in range(10) for y in range(10))\n",
    "from random import sample\n",
    "for _ in range(1,16):   \n",
    "    sam=sample(positive,1)\n",
    "    attack(_,sam[0][0],sam[0][1])"
   ]
  }
 ],
 "metadata": {
  "kernelspec": {
   "display_name": "Python 3",
   "language": "python",
   "name": "python3"
  },
  "language_info": {
   "codemirror_mode": {
    "name": "ipython",
    "version": 3
   },
   "file_extension": ".py",
   "mimetype": "text/x-python",
   "name": "python",
   "nbconvert_exporter": "python",
   "pygments_lexer": "ipython3",
   "version": "3.5.2"
  }
 },
 "nbformat": 4,
 "nbformat_minor": 2
}
